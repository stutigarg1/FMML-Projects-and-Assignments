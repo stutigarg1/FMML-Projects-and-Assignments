{
  "nbformat": 4,
  "nbformat_minor": 0,
  "metadata": {
    "colab": {
      "provenance": [],
      "authorship_tag": "ABX9TyNJkxoEtnMOkmvmXDZnVeYg",
      "include_colab_link": true
    },
    "kernelspec": {
      "name": "python3",
      "display_name": "Python 3"
    },
    "language_info": {
      "name": "python"
    }
  },
  "cells": [
    {
      "cell_type": "markdown",
      "metadata": {
        "id": "view-in-github",
        "colab_type": "text"
      },
      "source": [
        "<a href=\"https://colab.research.google.com/github/stutigarg1/FMML-Projects-and-Assignments/blob/main/M1_Lab_2_Assignment.ipynb\" target=\"_parent\"><img src=\"https://colab.research.google.com/assets/colab-badge.svg\" alt=\"Open In Colab\"/></a>"
      ]
    },
    {
      "cell_type": "code",
      "execution_count": 10,
      "metadata": {
        "id": "5rDoeA-MF5Jx"
      },
      "outputs": [],
      "source": [
        "import matplotlib.pyplot as plt\n",
        "import numpy as np\n",
        "from sklearn import datasets\n",
        "# set randomseed\n",
        "rng = np.random.default_rng(seed=42)"
      ]
    },
    {
      "cell_type": "code",
      "source": [
        "# Load the California housing dataset\n",
        "dataset = datasets.fetch_california_housing()\n",
        "\n",
        "print(dataset.DESCR)\n",
        "print(dataset.keys())\n",
        "\n",
        "# Converting the target to integers\n",
        "dataset.target = dataset.target.astype(int)  # Used int instead of np.int\n",
        "\n",
        "# Printing the shape of data and target\n",
        "print(dataset.data.shape)  # (20640, 8) - 20640 samples, 8 features\n",
        "print(dataset.target.shape)  # (20640,) - 20640 target values\n"
      ],
      "metadata": {
        "colab": {
          "base_uri": "https://localhost:8080/"
        },
        "id": "UqE8i-bDGSTG",
        "outputId": "55dbe8e2-f04b-42d3-ca42-02e3193f31ba"
      },
      "execution_count": 11,
      "outputs": [
        {
          "output_type": "stream",
          "name": "stdout",
          "text": [
            ".. _california_housing_dataset:\n",
            "\n",
            "California Housing dataset\n",
            "--------------------------\n",
            "\n",
            "**Data Set Characteristics:**\n",
            "\n",
            "    :Number of Instances: 20640\n",
            "\n",
            "    :Number of Attributes: 8 numeric, predictive attributes and the target\n",
            "\n",
            "    :Attribute Information:\n",
            "        - MedInc        median income in block group\n",
            "        - HouseAge      median house age in block group\n",
            "        - AveRooms      average number of rooms per household\n",
            "        - AveBedrms     average number of bedrooms per household\n",
            "        - Population    block group population\n",
            "        - AveOccup      average number of household members\n",
            "        - Latitude      block group latitude\n",
            "        - Longitude     block group longitude\n",
            "\n",
            "    :Missing Attribute Values: None\n",
            "\n",
            "This dataset was obtained from the StatLib repository.\n",
            "https://www.dcc.fc.up.pt/~ltorgo/Regression/cal_housing.html\n",
            "\n",
            "The target variable is the median house value for California districts,\n",
            "expressed in hundreds of thousands of dollars ($100,000).\n",
            "\n",
            "This dataset was derived from the 1990 U.S. census, using one row per census\n",
            "block group. A block group is the smallest geographical unit for which the U.S.\n",
            "Census Bureau publishes sample data (a block group typically has a population\n",
            "of 600 to 3,000 people).\n",
            "\n",
            "A household is a group of people residing within a home. Since the average\n",
            "number of rooms and bedrooms in this dataset are provided per household, these\n",
            "columns may take surprisingly large values for block groups with few households\n",
            "and many empty houses, such as vacation resorts.\n",
            "\n",
            "It can be downloaded/loaded using the\n",
            ":func:`sklearn.datasets.fetch_california_housing` function.\n",
            "\n",
            ".. topic:: References\n",
            "\n",
            "    - Pace, R. Kelley and Ronald Barry, Sparse Spatial Autoregressions,\n",
            "      Statistics and Probability Letters, 33 (1997) 291-297\n",
            "\n",
            "dict_keys(['data', 'target', 'frame', 'target_names', 'feature_names', 'DESCR'])\n",
            "(20640, 8)\n",
            "(20640,)\n"
          ]
        }
      ]
    },
    {
      "cell_type": "code",
      "source": [
        "# calculating the 1-nearest neighbours\n",
        "def NN1(traindata, trainlabel, query):\n",
        "  diff  = traindata - query  # find the difference between features. Numpy automatically takes care of the size here\n",
        "  sq = diff*diff # square the differences\n",
        "  dist = sq.sum(1) # add up the squares\n",
        "  label = trainlabel[np.argmin(dist)] # our predicted label is the label of the training data which has the least distance from the query\n",
        "  return label\n",
        "\n",
        "def NN(traindata, trainlabel, testdata):\n",
        "  # we will run nearest neighbour for each sample in the test data\n",
        "  # and collect the predicted classes in an array using list comprehension\n",
        "  predlabel = np.array([NN1(traindata, trainlabel, i) for i in testdata])\n",
        "  return predlabel"
      ],
      "metadata": {
        "id": "RQryyeIFH4bq"
      },
      "execution_count": 12,
      "outputs": []
    },
    {
      "cell_type": "code",
      "source": [
        "# Random Classifier\n",
        "def RandomClassifier(traindata, trainlabel, testdata):\n",
        "  # in reality, we don't need these arguments\n",
        "\n",
        "  classes = np.unique(trainlabel)\n",
        "  rints = rng.integers(low=0, high=len(classes), size=len(testdata))\n",
        "  predlabel = classes[rints]\n",
        "  return predlabel"
      ],
      "metadata": {
        "id": "PYAZu2JYIH8s"
      },
      "execution_count": 13,
      "outputs": []
    },
    {
      "cell_type": "code",
      "source": [
        "# Accuracy\n",
        "def Accuracy(gtlabel, predlabel):\n",
        "  assert len(gtlabel)==len(predlabel), \"Length of the groundtruth labels and predicted labels should be the same\"\n",
        "  correct = (gtlabel==predlabel).sum() # count the number of times the groundtruth label is equal to the predicted label.\n",
        "  return correct/len(gtlabel)"
      ],
      "metadata": {
        "id": "bLh984vuINqX"
      },
      "execution_count": 14,
      "outputs": []
    },
    {
      "cell_type": "code",
      "source": [
        "# Splitting the dataset\n",
        "def split(data, label, percent):\n",
        "\n",
        "  rnd = rng.random(len(label))\n",
        "  split1 = rnd<percent\n",
        "  split2 = rnd>=percent\n",
        "  split1data = data[split1,:]\n",
        "  split1label = label[split1]\n",
        "  split2data = data[split2,:]\n",
        "  split2label = label[split2]\n",
        "\n",
        "  return split1data, split1label, split2data, split2label"
      ],
      "metadata": {
        "id": "_VyFqFJ-IWcI"
      },
      "execution_count": 15,
      "outputs": []
    },
    {
      "cell_type": "code",
      "source": [
        "# Reserving 20% for test data\n",
        "\n",
        "testdata, testlabel, alltraindata, alltrainlabel = split(dataset.data, dataset.target, 20/100)\n",
        "print('Number of test samples = ', len(testlabel))\n",
        "print('Number of other samples = ', len(alltrainlabel))\n",
        "print('Percent of test data = ', len(testlabel)*100/len(dataset.target),'%')"
      ],
      "metadata": {
        "colab": {
          "base_uri": "https://localhost:8080/"
        },
        "id": "qL_XRrmMIh38",
        "outputId": "8354543e-4af7-4ab5-f03e-118220c1b9a9"
      },
      "execution_count": 16,
      "outputs": [
        {
          "output_type": "stream",
          "name": "stdout",
          "text": [
            "Number of test samples =  4144\n",
            "Number of other samples =  16496\n",
            "Percent of test data =  20.07751937984496 %\n"
          ]
        }
      ]
    },
    {
      "cell_type": "markdown",
      "source": [
        "Experimenting with Splits"
      ],
      "metadata": {
        "id": "iXE6HIJKI-Dd"
      }
    },
    {
      "cell_type": "code",
      "source": [
        "# Reserving some train data as validation set\n",
        "\n",
        "traindata, trainlabel, valdata, vallabel = split(alltraindata, alltrainlabel, 75/100)"
      ],
      "metadata": {
        "id": "0N_rW9HqJCIl"
      },
      "execution_count": 17,
      "outputs": []
    },
    {
      "cell_type": "code",
      "source": [
        "# FInding train accuracy of both classifiers- Nearest Neighbours and Random Classifier\n",
        "\n",
        "trainpred = NN(traindata, trainlabel, traindata)\n",
        "trainAccuracy = Accuracy(trainlabel, trainpred)\n",
        "print(\"Train accuracy using nearest neighbour is \", trainAccuracy)\n",
        "\n",
        "trainpred = RandomClassifier(traindata, trainlabel, traindata)\n",
        "trainAccuracy = Accuracy(trainlabel, trainpred)\n",
        "print(\"Train accuracy using random classifier is \", trainAccuracy)"
      ],
      "metadata": {
        "colab": {
          "base_uri": "https://localhost:8080/"
        },
        "id": "gd1n82wpJMjW",
        "outputId": "61cd16d7-d5e6-49c0-fc9a-09e4c15e5f70"
      },
      "execution_count": 18,
      "outputs": [
        {
          "output_type": "stream",
          "name": "stdout",
          "text": [
            "Train accuracy using nearest neighbour is  1.0\n",
            "Train accuracy using random classifier is  0.164375808538163\n"
          ]
        }
      ]
    },
    {
      "cell_type": "markdown",
      "source": [
        "Here, we can infer that nearest neighbour is giving us an accuracy of 1, while the random classifier is giving us an accuracy of 0.1691004."
      ],
      "metadata": {
        "id": "2pcoyy9yJo2f"
      }
    },
    {
      "cell_type": "code",
      "source": [
        "# Finding validation accuracy of both classifiers- Nearest Neighbours and Random Classifier\n",
        "\n",
        "valpred = NN(traindata, trainlabel, valdata)\n",
        "valAccuracy = Accuracy(vallabel, valpred)\n",
        "print(\"Validation accuracy using nearest neighbour is \", valAccuracy)\n",
        "\n",
        "valpred = RandomClassifier(traindata, trainlabel, valdata)\n",
        "valAccuracy = Accuracy(vallabel, valpred)\n",
        "print(\"Validation accuracy using random classifier is \", valAccuracy)"
      ],
      "metadata": {
        "colab": {
          "base_uri": "https://localhost:8080/"
        },
        "id": "RolcBDQiJ29F",
        "outputId": "5c3c33a2-e221-4c9b-8e26-c942677a6274"
      },
      "execution_count": 19,
      "outputs": [
        {
          "output_type": "stream",
          "name": "stdout",
          "text": [
            "Validation accuracy using nearest neighbour is  0.34108527131782945\n",
            "Validation accuracy using random classifier is  0.1688468992248062\n"
          ]
        }
      ]
    },
    {
      "cell_type": "markdown",
      "source": [
        "\n",
        "The validation accuracy of the nearest neighbor model is significantly lower than its training accuracy, whereas the validation accuracy of the random classifier remains consistent with its training accuracy.\n",
        "\n",
        "**Observation:**  ValAccuracy_NN ~= (2 * ValAccuracy_RandomClassifer)\n",
        "\n",
        "\n",
        "\n",
        "\n"
      ],
      "metadata": {
        "id": "duLrIfpdKHUQ"
      }
    },
    {
      "cell_type": "code",
      "source": [
        "# Random split of 75% train data and checking the validation accuracy\n",
        "traindata, trainlabel, valdata, vallabel = split(alltraindata, alltrainlabel, 75/100)\n",
        "valpred = NN(traindata, trainlabel, valdata)\n",
        "valAccuracy = Accuracy(vallabel, valpred)\n",
        "print(\"Validation accuracy of nearest neighbour is \", valAccuracy)"
      ],
      "metadata": {
        "colab": {
          "base_uri": "https://localhost:8080/"
        },
        "id": "xwaYEPqvLEu5",
        "outputId": "9515a978-cbb3-401d-de0b-70c605a7d911"
      },
      "execution_count": 20,
      "outputs": [
        {
          "output_type": "stream",
          "name": "stdout",
          "text": [
            "Validation accuracy of nearest neighbour is  0.34048257372654156\n"
          ]
        }
      ]
    },
    {
      "cell_type": "code",
      "source": [
        "# Accuracy of test dataset\n",
        "testpred = NN(alltraindata, alltrainlabel, testdata)\n",
        "testAccuracy = Accuracy(testlabel, testpred)\n",
        "print('Test accuracy is ', testAccuracy)"
      ],
      "metadata": {
        "colab": {
          "base_uri": "https://localhost:8080/"
        },
        "id": "Epb77g8rNnQn",
        "outputId": "03bf5e8f-dcff-409e-e79c-22dfd60c24d4"
      },
      "execution_count": 21,
      "outputs": [
        {
          "output_type": "stream",
          "name": "stdout",
          "text": [
            "Test accuracy is  0.34917953667953666\n"
          ]
        }
      ]
    },
    {
      "cell_type": "markdown",
      "source": [
        "The train accuracy and test accuracy both correspond to almost the same value ie, 0.343."
      ],
      "metadata": {
        "id": "72W0HPbeN2cD"
      }
    },
    {
      "cell_type": "markdown",
      "source": [
        "**Try it out for yourself and answer:**\n",
        "- How is the accuracy of the validation set affected if we increase the percentage of validation set? What happens when we reduce it?"
      ],
      "metadata": {
        "id": "_-cT9GOFOUvN"
      }
    },
    {
      "cell_type": "code",
      "source": [
        "# Random split of 95% train data and checking the validation accuracy\n",
        "traindata, trainlabel, valdata, vallabel = split(alltraindata, alltrainlabel, 95/100)\n",
        "valpred = NN(traindata, trainlabel, valdata)\n",
        "valAccuracy = Accuracy(vallabel, valpred)\n",
        "print(\"Validation accuracy of nearest neighbour is \", valAccuracy)"
      ],
      "metadata": {
        "colab": {
          "base_uri": "https://localhost:8080/"
        },
        "id": "iJCVzgh9LtiT",
        "outputId": "f08f9295-4e0d-46e1-d32b-2eb1a504ed72"
      },
      "execution_count": 22,
      "outputs": [
        {
          "output_type": "stream",
          "name": "stdout",
          "text": [
            "Validation accuracy of nearest neighbour is  0.34579439252336447\n"
          ]
        }
      ]
    },
    {
      "cell_type": "code",
      "source": [
        "# Random split of 99% train data and checking the validation accuracy\n",
        "traindata, trainlabel, valdata, vallabel = split(alltraindata, alltrainlabel, 99/100)\n",
        "valpred = NN(traindata, trainlabel, valdata)\n",
        "valAccuracy = Accuracy(vallabel, valpred)\n",
        "print(\"Validation accuracy of nearest neighbour is \", valAccuracy)"
      ],
      "metadata": {
        "colab": {
          "base_uri": "https://localhost:8080/"
        },
        "id": "vnqo-SYzMN-5",
        "outputId": "13bf3ef5-f587-4a7c-92a7-251ecb4aa679"
      },
      "execution_count": 23,
      "outputs": [
        {
          "output_type": "stream",
          "name": "stdout",
          "text": [
            "Validation accuracy of nearest neighbour is  0.4375\n"
          ]
        }
      ]
    },
    {
      "cell_type": "code",
      "source": [
        "# Random split of 100% train data and checking the validation accuracy\n",
        "traindata, trainlabel, valdata, vallabel = split(alltraindata, alltrainlabel, 100/100)\n",
        "valpred = NN(traindata, trainlabel, valdata)\n",
        "valAccuracy = Accuracy(vallabel, valpred)\n",
        "print(\"Validation accuracy of nearest neighbour is \", valAccuracy)"
      ],
      "metadata": {
        "colab": {
          "base_uri": "https://localhost:8080/"
        },
        "id": "5fNjYQk0MYIx",
        "outputId": "9a547837-3539-48ba-a0f1-2bcc7300126c"
      },
      "execution_count": 24,
      "outputs": [
        {
          "output_type": "stream",
          "name": "stdout",
          "text": [
            "Validation accuracy of nearest neighbour is  nan\n"
          ]
        },
        {
          "output_type": "stream",
          "name": "stderr",
          "text": [
            "<ipython-input-14-83bec0a377d7>:5: RuntimeWarning: invalid value encountered in scalar divide\n",
            "  return correct/len(gtlabel)\n"
          ]
        }
      ]
    },
    {
      "cell_type": "code",
      "source": [
        "# Random split of 50% train data and checking the validation accuracy\n",
        "traindata, trainlabel, valdata, vallabel = split(alltraindata, alltrainlabel, 50/100)\n",
        "valpred = NN(traindata, trainlabel, valdata)\n",
        "valAccuracy = Accuracy(vallabel, valpred)\n",
        "print(\"Validation accuracy of nearest neighbour is \", valAccuracy)"
      ],
      "metadata": {
        "colab": {
          "base_uri": "https://localhost:8080/"
        },
        "id": "fL5s-QeeMd3E",
        "outputId": "07904973-f662-4d11-f8f2-e965b8636a69"
      },
      "execution_count": 30,
      "outputs": [
        {
          "output_type": "stream",
          "name": "stdout",
          "text": [
            "Validation accuracy of nearest neighbour is  0.3265356265356265\n"
          ]
        }
      ]
    },
    {
      "cell_type": "code",
      "source": [
        "# Random split of 8% train data and checking the validation accuracy\n",
        "traindata, trainlabel, valdata, vallabel = split(alltraindata, alltrainlabel, 8/100)\n",
        "valpred = NN(traindata, trainlabel, valdata)\n",
        "valAccuracy = Accuracy(vallabel, valpred)\n",
        "print(\"Validation accuracy of nearest neighbour is \", valAccuracy)"
      ],
      "metadata": {
        "colab": {
          "base_uri": "https://localhost:8080/"
        },
        "id": "Op8K-ahBMinS",
        "outputId": "fc6f1611-c508-468b-9fa9-80f417ef5b58"
      },
      "execution_count": 25,
      "outputs": [
        {
          "output_type": "stream",
          "name": "stdout",
          "text": [
            "Validation accuracy of nearest neighbour is  0.2939356028181998\n"
          ]
        }
      ]
    },
    {
      "cell_type": "code",
      "source": [
        "# Random split of 35% train data and checking the validation accuracy\n",
        "traindata, trainlabel, valdata, vallabel = split(alltraindata, alltrainlabel, 35/100)\n",
        "valpred = NN(traindata, trainlabel, valdata)\n",
        "valAccuracy = Accuracy(vallabel, valpred)\n",
        "print(\"Validation accuracy of nearest neighbour is \", valAccuracy)"
      ],
      "metadata": {
        "colab": {
          "base_uri": "https://localhost:8080/"
        },
        "id": "hISlrsS1Mpbz",
        "outputId": "89b5febd-1cc7-4c83-d1d0-c8d119f97efa"
      },
      "execution_count": 26,
      "outputs": [
        {
          "output_type": "stream",
          "name": "stdout",
          "text": [
            "Validation accuracy of nearest neighbour is  0.31861822289156627\n"
          ]
        }
      ]
    },
    {
      "cell_type": "markdown",
      "source": [
        "Here, we notice that the random split for train data above 35% is roughly close enough. As splitting percentage of train data increases we can see an increase of 0.1 in the validation accuracy; in most of the cases above.\n",
        "\n",
        "**Observation:**  \n",
        "- Increasing the validation set size reduces training data, which may decrease model performance, but provides a more stable and representative accuracy assessment. The right balance is crucial for optimal model evaluation.\n",
        "\n",
        "- Reducing the validation set size provides more data for training, which might improve the model's ability to learn. However, the smaller validation set may give less reliable and more variable accuracy estimates, making it harder to assess the model's true performance."
      ],
      "metadata": {
        "id": "MiL_5yL_MwYT"
      }
    },
    {
      "cell_type": "markdown",
      "source": [
        "**Try it out for yourself and answer:**\n",
        "\n",
        "- How does the size of the train and validation set affect how well we can predict the accuracy on the test set using the validation set?"
      ],
      "metadata": {
        "id": "dgJsu05CSWM5"
      }
    },
    {
      "cell_type": "markdown",
      "source": [
        "The size of the training and validation sets directly impacts how accurately we can predict the test set performance:\n",
        "\n",
        "- Training Set Size:\n",
        "       1. If training set is large--> Allows the model to learn better from more data, that leads to better performance on both validation and test sets.\n",
        "          (As seen above, accuracy rose to 0.367 in the case of splitting the data 99% as compared to accuracy of 0.345 in the case of 75% splitting of validation data.)\n",
        "\n",
        "       2. If training set is small--> Does not allow the model to learn from enough data, that leads to poor performance on test sets.\n",
        "          (As seen above, accuracy fell to 0.28% in the case of splitting the data 8%.)\n",
        "\n",
        "- Validation Set Size:\n",
        "       1. If validation set is large--> Provides a more accurate and stable estimate of the model's performance.\n",
        "       \n",
        "       2. If validation set is small--> Can lead to more variability in accuracy estimates, making it less reliable for predicting test set performance.\n",
        "                  \n"
      ],
      "metadata": {
        "id": "piLHdD_bTExl"
      }
    },
    {
      "cell_type": "markdown",
      "source": [
        "**Try it out for yourself and answer:**\n",
        "\n",
        "- What do you think is a good percentage to reserve for the validation set so that thest two factors are balanced?"
      ],
      "metadata": {
        "id": "Bcqc77jtXPeS"
      }
    },
    {
      "cell_type": "markdown",
      "source": [
        "According to me, a good percentage to reserve for the validation set so that thest two factors are balanced is 80% train data and 20% validation data. I believe that 80% data is adequately sufficient for the model to learn upon and train while 20% is usually sufficient to get a reliable estimate of model performance.\n",
        "\n",
        "However, as seen in above codes ideal ranges are:  \n",
        "- 70-80% -> Train Data\n",
        "- 20-30% -> Validation\n",
        "                            "
      ],
      "metadata": {
        "id": "bd1kqX4vXiHh"
      }
    },
    {
      "cell_type": "markdown",
      "source": [
        "**Exercise:**\n",
        "\n",
        "Answer for both nearest neighbour and random classifier. You can note down the values for your experiments and plot a graph using plt.plot. Check also for extreme values for splits, like 99.9% or 0.1%"
      ],
      "metadata": {
        "id": "5CDtf5hlZOoY"
      }
    },
    {
      "cell_type": "code",
      "source": [
        "#Checking extreme values of Nearest Neighbours and Random Classifiers\n",
        "traindata, trainlabel, valdata, vallabel = split(alltraindata, alltrainlabel, 99.9/100)"
      ],
      "metadata": {
        "id": "GAePvaaUZYFq"
      },
      "execution_count": 27,
      "outputs": []
    },
    {
      "cell_type": "code",
      "source": [
        "trainpred = NN(traindata, trainlabel, traindata)\n",
        "trainAccuracy = Accuracy(trainlabel, trainpred)\n",
        "print(\"Train accuracy using nearest neighbour is \", trainAccuracy)\n",
        "\n",
        "trainpred = RandomClassifier(traindata, trainlabel, traindata)\n",
        "trainAccuracy = Accuracy(trainlabel, trainpred)\n",
        "print(\"Train accuracy using random classifier is \", trainAccuracy)"
      ],
      "metadata": {
        "colab": {
          "base_uri": "https://localhost:8080/"
        },
        "id": "O-N0eGXvavHE",
        "outputId": "6a55f679-c848-46f9-9bef-cf64ab5fa1d1"
      },
      "execution_count": 28,
      "outputs": [
        {
          "output_type": "stream",
          "name": "stdout",
          "text": [
            "Train accuracy using nearest neighbour is  1.0\n",
            "Train accuracy using random classifier is  0.16217692027666544\n"
          ]
        }
      ]
    },
    {
      "cell_type": "code",
      "source": [
        "valpred = NN(traindata, trainlabel, valdata)\n",
        "valAccuracy = Accuracy(vallabel, valpred)\n",
        "print(\"Validation accuracy using nearest neighbour is \", valAccuracy)\n",
        "\n",
        "valpred = RandomClassifier(traindata, trainlabel, valdata)\n",
        "valAccuracy = Accuracy(vallabel, valpred)\n",
        "print(\"Validation accuracy using random classifier is \", valAccuracy)"
      ],
      "metadata": {
        "colab": {
          "base_uri": "https://localhost:8080/"
        },
        "id": "naZRhhqDazC6",
        "outputId": "ef8678f0-873f-4a2b-ba5d-d74c40ff3fd0"
      },
      "execution_count": 29,
      "outputs": [
        {
          "output_type": "stream",
          "name": "stdout",
          "text": [
            "Validation accuracy using nearest neighbour is  0.5\n",
            "Validation accuracy using random classifier is  0.14285714285714285\n"
          ]
        }
      ]
    },
    {
      "cell_type": "code",
      "source": [
        "testpred = NN(alltraindata, alltrainlabel, testdata)\n",
        "testAccuracy = Accuracy(testlabel, testpred)\n",
        "print('Test accuracy using nearest neighbours is ', testAccuracy)\n",
        "\n",
        "testpred = RandomClassifier(alltraindata, alltrainlabel, testdata)\n",
        "testAccuracy = Accuracy(testlabel, testpred)\n",
        "print(\"Test accuracy using random classifier is \", testAccuracy)"
      ],
      "metadata": {
        "colab": {
          "base_uri": "https://localhost:8080/"
        },
        "id": "dLCTCWFEa7dh",
        "outputId": "d6f226a6-099e-41f8-c42e-2cb07f24c1f5"
      },
      "execution_count": 30,
      "outputs": [
        {
          "output_type": "stream",
          "name": "stdout",
          "text": [
            "Test accuracy using nearest neighbours is  0.34917953667953666\n",
            "Test accuracy using random classifier is  0.17012548262548263\n"
          ]
        }
      ]
    },
    {
      "cell_type": "code",
      "source": [
        "import numpy as np\n",
        "import matplotlib.pyplot as plt\n",
        "\n",
        "# 99.9%\n",
        "split_ratios = [0.001, 0.999]\n",
        "nn_train_accuracies = []\n",
        "random_train_accuracies = []\n",
        "nn_val_accuracies = []\n",
        "random_val_accuracies = []\n",
        "nn_test_accuracies = []\n",
        "random_test_accuracies = []"
      ],
      "metadata": {
        "id": "VD3ZPgUPcrqt"
      },
      "execution_count": 31,
      "outputs": []
    },
    {
      "cell_type": "code",
      "source": [
        "for ratio in split_ratios:\n",
        "    # Split data\n",
        "    traindata, trainlabel, valdata, vallabel = split(alltraindata, alltrainlabel, ratio)\n",
        "\n",
        "    # Train Nearest Neighbor Classifier\n",
        "    trainpred = NN(traindata, trainlabel, traindata)\n",
        "    nn_train_accuracy = Accuracy(trainlabel, trainpred)\n",
        "    nn_train_accuracies.append(nn_train_accuracy)\n",
        "\n",
        "    valpred = NN(traindata, trainlabel, valdata)\n",
        "    nn_val_accuracy = Accuracy(vallabel, valpred)\n",
        "    nn_val_accuracies.append(nn_val_accuracy)\n",
        "\n",
        "    testpred = NN(alltraindata, alltrainlabel, testdata)\n",
        "    nn_test_accuracy = Accuracy(testlabel, testpred)\n",
        "    nn_test_accuracies.append(nn_test_accuracy)\n",
        "\n",
        "    # Train Random Classifier\n",
        "    trainpred = RandomClassifier(traindata, trainlabel, traindata)\n",
        "    random_train_accuracy = Accuracy(trainlabel, trainpred)\n",
        "    random_train_accuracies.append(random_train_accuracy)\n",
        "\n",
        "    valpred = RandomClassifier(traindata, trainlabel, valdata)\n",
        "    random_val_accuracy = Accuracy(vallabel, valpred)\n",
        "    random_val_accuracies.append(random_val_accuracy)\n",
        "\n",
        "    testpred = RandomClassifier(alltraindata, alltrainlabel, testdata)\n",
        "    random_test_accuracy = Accuracy(testlabel, testpred)\n",
        "    random_test_accuracies.append(random_test_accuracy)"
      ],
      "metadata": {
        "id": "liSIAu8N6Hak"
      },
      "execution_count": 37,
      "outputs": []
    },
    {
      "cell_type": "code",
      "source": [
        "# Plotting the results\n",
        "plt.figure(figsize=(12, 8))\n",
        "\n",
        "# Plot training accuracies\n",
        "plt.subplot(3, 1, 1)\n",
        "plt.plot([100 * ratio for ratio in split_ratios], nn_train_accuracies, label='Nearest Neighbor (Train)', marker='o')\n",
        "plt.plot([100 * ratio for ratio in split_ratios], random_train_accuracies, label='Random Classifier (Train)', marker='o')\n",
        "plt.xlabel('Validation Set Size (%)')\n",
        "plt.ylabel('Training Accuracy')\n",
        "plt.title('Training Accuracy vs. Validation Set Size')\n",
        "plt.legend()\n",
        "plt.grid(True)\n",
        "\n",
        "# Plot validation accuracies\n",
        "plt.subplot(3, 1, 2)\n",
        "plt.plot([100 * ratio for ratio in split_ratios], nn_val_accuracies, label='Nearest Neighbor (Validation)', marker='o')\n",
        "plt.plot([100 * ratio for ratio in split_ratios], random_val_accuracies, label='Random Classifier (Validation)', marker='o')\n",
        "plt.xlabel('Validation Set Size (%)')\n",
        "plt.ylabel('Validation Accuracy')\n",
        "plt.title('Validation Accuracy vs. Validation Set Size')\n",
        "plt.legend()\n",
        "plt.grid(True)\n",
        "\n",
        "# Plot test accuracies\n",
        "plt.subplot(3, 1, 3)\n",
        "plt.plot([100 * ratio for ratio in split_ratios], nn_test_accuracies, label='Nearest Neighbor (Test)', marker='o')\n",
        "plt.plot([100 * ratio for ratio in split_ratios], random_test_accuracies, label='Random Classifier (Test)', marker='o')\n",
        "plt.xlabel('Validation Set Size (%)')\n",
        "plt.ylabel('Test Accuracy')\n",
        "plt.title('Test Accuracy vs. Validation Set Size')\n",
        "plt.legend()\n",
        "plt.grid(True)\n",
        "\n",
        "plt.tight_layout()\n",
        "plt.show()"
      ],
      "metadata": {
        "colab": {
          "base_uri": "https://localhost:8080/",
          "height": 595
        },
        "id": "vEhlInGV6cO8",
        "outputId": "5ee7f777-79cb-4bbd-c574-76c04c366720"
      },
      "execution_count": 39,
      "outputs": [
        {
          "output_type": "error",
          "ename": "ValueError",
          "evalue": "x and y must have same first dimension, but have shapes (2,) and (4,)",
          "traceback": [
            "\u001b[0;31m---------------------------------------------------------------------------\u001b[0m",
            "\u001b[0;31mValueError\u001b[0m                                Traceback (most recent call last)",
            "\u001b[0;32m<ipython-input-39-e7539ebc6afe>\u001b[0m in \u001b[0;36m<cell line: 6>\u001b[0;34m()\u001b[0m\n\u001b[1;32m      4\u001b[0m \u001b[0;31m# Plot training accuracies\u001b[0m\u001b[0;34m\u001b[0m\u001b[0;34m\u001b[0m\u001b[0m\n\u001b[1;32m      5\u001b[0m \u001b[0mplt\u001b[0m\u001b[0;34m.\u001b[0m\u001b[0msubplot\u001b[0m\u001b[0;34m(\u001b[0m\u001b[0;36m3\u001b[0m\u001b[0;34m,\u001b[0m \u001b[0;36m1\u001b[0m\u001b[0;34m,\u001b[0m \u001b[0;36m1\u001b[0m\u001b[0;34m)\u001b[0m\u001b[0;34m\u001b[0m\u001b[0;34m\u001b[0m\u001b[0m\n\u001b[0;32m----> 6\u001b[0;31m \u001b[0mplt\u001b[0m\u001b[0;34m.\u001b[0m\u001b[0mplot\u001b[0m\u001b[0;34m(\u001b[0m\u001b[0;34m[\u001b[0m\u001b[0;36m100\u001b[0m \u001b[0;34m*\u001b[0m \u001b[0mratio\u001b[0m \u001b[0;32mfor\u001b[0m \u001b[0mratio\u001b[0m \u001b[0;32min\u001b[0m \u001b[0msplit_ratios\u001b[0m\u001b[0;34m]\u001b[0m\u001b[0;34m,\u001b[0m \u001b[0mnn_train_accuracies\u001b[0m\u001b[0;34m,\u001b[0m \u001b[0mlabel\u001b[0m\u001b[0;34m=\u001b[0m\u001b[0;34m'Nearest Neighbor (Train)'\u001b[0m\u001b[0;34m,\u001b[0m \u001b[0mmarker\u001b[0m\u001b[0;34m=\u001b[0m\u001b[0;34m'o'\u001b[0m\u001b[0;34m)\u001b[0m\u001b[0;34m\u001b[0m\u001b[0;34m\u001b[0m\u001b[0m\n\u001b[0m\u001b[1;32m      7\u001b[0m \u001b[0mplt\u001b[0m\u001b[0;34m.\u001b[0m\u001b[0mplot\u001b[0m\u001b[0;34m(\u001b[0m\u001b[0;34m[\u001b[0m\u001b[0;36m100\u001b[0m \u001b[0;34m*\u001b[0m \u001b[0mratio\u001b[0m \u001b[0;32mfor\u001b[0m \u001b[0mratio\u001b[0m \u001b[0;32min\u001b[0m \u001b[0msplit_ratios\u001b[0m\u001b[0;34m]\u001b[0m\u001b[0;34m,\u001b[0m \u001b[0mrandom_train_accuracies\u001b[0m\u001b[0;34m,\u001b[0m \u001b[0mlabel\u001b[0m\u001b[0;34m=\u001b[0m\u001b[0;34m'Random Classifier (Train)'\u001b[0m\u001b[0;34m,\u001b[0m \u001b[0mmarker\u001b[0m\u001b[0;34m=\u001b[0m\u001b[0;34m'o'\u001b[0m\u001b[0;34m)\u001b[0m\u001b[0;34m\u001b[0m\u001b[0;34m\u001b[0m\u001b[0m\n\u001b[1;32m      8\u001b[0m \u001b[0mplt\u001b[0m\u001b[0;34m.\u001b[0m\u001b[0mxlabel\u001b[0m\u001b[0;34m(\u001b[0m\u001b[0;34m'Validation Set Size (%)'\u001b[0m\u001b[0;34m)\u001b[0m\u001b[0;34m\u001b[0m\u001b[0;34m\u001b[0m\u001b[0m\n",
            "\u001b[0;32m/usr/local/lib/python3.10/dist-packages/matplotlib/pyplot.py\u001b[0m in \u001b[0;36mplot\u001b[0;34m(scalex, scaley, data, *args, **kwargs)\u001b[0m\n\u001b[1;32m   2810\u001b[0m \u001b[0;34m@\u001b[0m\u001b[0m_copy_docstring_and_deprecators\u001b[0m\u001b[0;34m(\u001b[0m\u001b[0mAxes\u001b[0m\u001b[0;34m.\u001b[0m\u001b[0mplot\u001b[0m\u001b[0;34m)\u001b[0m\u001b[0;34m\u001b[0m\u001b[0;34m\u001b[0m\u001b[0m\n\u001b[1;32m   2811\u001b[0m \u001b[0;32mdef\u001b[0m \u001b[0mplot\u001b[0m\u001b[0;34m(\u001b[0m\u001b[0;34m*\u001b[0m\u001b[0margs\u001b[0m\u001b[0;34m,\u001b[0m \u001b[0mscalex\u001b[0m\u001b[0;34m=\u001b[0m\u001b[0;32mTrue\u001b[0m\u001b[0;34m,\u001b[0m \u001b[0mscaley\u001b[0m\u001b[0;34m=\u001b[0m\u001b[0;32mTrue\u001b[0m\u001b[0;34m,\u001b[0m \u001b[0mdata\u001b[0m\u001b[0;34m=\u001b[0m\u001b[0;32mNone\u001b[0m\u001b[0;34m,\u001b[0m \u001b[0;34m**\u001b[0m\u001b[0mkwargs\u001b[0m\u001b[0;34m)\u001b[0m\u001b[0;34m:\u001b[0m\u001b[0;34m\u001b[0m\u001b[0;34m\u001b[0m\u001b[0m\n\u001b[0;32m-> 2812\u001b[0;31m     return gca().plot(\n\u001b[0m\u001b[1;32m   2813\u001b[0m         \u001b[0;34m*\u001b[0m\u001b[0margs\u001b[0m\u001b[0;34m,\u001b[0m \u001b[0mscalex\u001b[0m\u001b[0;34m=\u001b[0m\u001b[0mscalex\u001b[0m\u001b[0;34m,\u001b[0m \u001b[0mscaley\u001b[0m\u001b[0;34m=\u001b[0m\u001b[0mscaley\u001b[0m\u001b[0;34m,\u001b[0m\u001b[0;34m\u001b[0m\u001b[0;34m\u001b[0m\u001b[0m\n\u001b[1;32m   2814\u001b[0m         **({\"data\": data} if data is not None else {}), **kwargs)\n",
            "\u001b[0;32m/usr/local/lib/python3.10/dist-packages/matplotlib/axes/_axes.py\u001b[0m in \u001b[0;36mplot\u001b[0;34m(self, scalex, scaley, data, *args, **kwargs)\u001b[0m\n\u001b[1;32m   1686\u001b[0m         \"\"\"\n\u001b[1;32m   1687\u001b[0m         \u001b[0mkwargs\u001b[0m \u001b[0;34m=\u001b[0m \u001b[0mcbook\u001b[0m\u001b[0;34m.\u001b[0m\u001b[0mnormalize_kwargs\u001b[0m\u001b[0;34m(\u001b[0m\u001b[0mkwargs\u001b[0m\u001b[0;34m,\u001b[0m \u001b[0mmlines\u001b[0m\u001b[0;34m.\u001b[0m\u001b[0mLine2D\u001b[0m\u001b[0;34m)\u001b[0m\u001b[0;34m\u001b[0m\u001b[0;34m\u001b[0m\u001b[0m\n\u001b[0;32m-> 1688\u001b[0;31m         \u001b[0mlines\u001b[0m \u001b[0;34m=\u001b[0m \u001b[0;34m[\u001b[0m\u001b[0;34m*\u001b[0m\u001b[0mself\u001b[0m\u001b[0;34m.\u001b[0m\u001b[0m_get_lines\u001b[0m\u001b[0;34m(\u001b[0m\u001b[0;34m*\u001b[0m\u001b[0margs\u001b[0m\u001b[0;34m,\u001b[0m \u001b[0mdata\u001b[0m\u001b[0;34m=\u001b[0m\u001b[0mdata\u001b[0m\u001b[0;34m,\u001b[0m \u001b[0;34m**\u001b[0m\u001b[0mkwargs\u001b[0m\u001b[0;34m)\u001b[0m\u001b[0;34m]\u001b[0m\u001b[0;34m\u001b[0m\u001b[0;34m\u001b[0m\u001b[0m\n\u001b[0m\u001b[1;32m   1689\u001b[0m         \u001b[0;32mfor\u001b[0m \u001b[0mline\u001b[0m \u001b[0;32min\u001b[0m \u001b[0mlines\u001b[0m\u001b[0;34m:\u001b[0m\u001b[0;34m\u001b[0m\u001b[0;34m\u001b[0m\u001b[0m\n\u001b[1;32m   1690\u001b[0m             \u001b[0mself\u001b[0m\u001b[0;34m.\u001b[0m\u001b[0madd_line\u001b[0m\u001b[0;34m(\u001b[0m\u001b[0mline\u001b[0m\u001b[0;34m)\u001b[0m\u001b[0;34m\u001b[0m\u001b[0;34m\u001b[0m\u001b[0m\n",
            "\u001b[0;32m/usr/local/lib/python3.10/dist-packages/matplotlib/axes/_base.py\u001b[0m in \u001b[0;36m__call__\u001b[0;34m(self, data, *args, **kwargs)\u001b[0m\n\u001b[1;32m    309\u001b[0m                 \u001b[0mthis\u001b[0m \u001b[0;34m+=\u001b[0m \u001b[0margs\u001b[0m\u001b[0;34m[\u001b[0m\u001b[0;36m0\u001b[0m\u001b[0;34m]\u001b[0m\u001b[0;34m,\u001b[0m\u001b[0;34m\u001b[0m\u001b[0;34m\u001b[0m\u001b[0m\n\u001b[1;32m    310\u001b[0m                 \u001b[0margs\u001b[0m \u001b[0;34m=\u001b[0m \u001b[0margs\u001b[0m\u001b[0;34m[\u001b[0m\u001b[0;36m1\u001b[0m\u001b[0;34m:\u001b[0m\u001b[0;34m]\u001b[0m\u001b[0;34m\u001b[0m\u001b[0;34m\u001b[0m\u001b[0m\n\u001b[0;32m--> 311\u001b[0;31m             yield from self._plot_args(\n\u001b[0m\u001b[1;32m    312\u001b[0m                 this, kwargs, ambiguous_fmt_datakey=ambiguous_fmt_datakey)\n\u001b[1;32m    313\u001b[0m \u001b[0;34m\u001b[0m\u001b[0m\n",
            "\u001b[0;32m/usr/local/lib/python3.10/dist-packages/matplotlib/axes/_base.py\u001b[0m in \u001b[0;36m_plot_args\u001b[0;34m(self, tup, kwargs, return_kwargs, ambiguous_fmt_datakey)\u001b[0m\n\u001b[1;32m    502\u001b[0m \u001b[0;34m\u001b[0m\u001b[0m\n\u001b[1;32m    503\u001b[0m         \u001b[0;32mif\u001b[0m \u001b[0mx\u001b[0m\u001b[0;34m.\u001b[0m\u001b[0mshape\u001b[0m\u001b[0;34m[\u001b[0m\u001b[0;36m0\u001b[0m\u001b[0;34m]\u001b[0m \u001b[0;34m!=\u001b[0m \u001b[0my\u001b[0m\u001b[0;34m.\u001b[0m\u001b[0mshape\u001b[0m\u001b[0;34m[\u001b[0m\u001b[0;36m0\u001b[0m\u001b[0;34m]\u001b[0m\u001b[0;34m:\u001b[0m\u001b[0;34m\u001b[0m\u001b[0;34m\u001b[0m\u001b[0m\n\u001b[0;32m--> 504\u001b[0;31m             raise ValueError(f\"x and y must have same first dimension, but \"\n\u001b[0m\u001b[1;32m    505\u001b[0m                              f\"have shapes {x.shape} and {y.shape}\")\n\u001b[1;32m    506\u001b[0m         \u001b[0;32mif\u001b[0m \u001b[0mx\u001b[0m\u001b[0;34m.\u001b[0m\u001b[0mndim\u001b[0m \u001b[0;34m>\u001b[0m \u001b[0;36m2\u001b[0m \u001b[0;32mor\u001b[0m \u001b[0my\u001b[0m\u001b[0;34m.\u001b[0m\u001b[0mndim\u001b[0m \u001b[0;34m>\u001b[0m \u001b[0;36m2\u001b[0m\u001b[0;34m:\u001b[0m\u001b[0;34m\u001b[0m\u001b[0;34m\u001b[0m\u001b[0m\n",
            "\u001b[0;31mValueError\u001b[0m: x and y must have same first dimension, but have shapes (2,) and (4,)"
          ]
        },
        {
          "output_type": "display_data",
          "data": {
            "text/plain": [
              "<Figure size 1200x800 with 1 Axes>"
            ],
            "image/png": "[encoded data removed]"
          },
          "metadata": {}
        }
      ]
    },
    {
      "cell_type": "code",
      "source": [
        "import numpy as np\n",
        "import matplotlib.pyplot as plt\n",
        "\n",
        "# Define extreme split ratios\n",
        "split_ratios = [0.001, 0.999]\n",
        "nn_train_accuracies = []\n",
        "random_train_accuracies = []\n",
        "nn_val_accuracies = []\n",
        "random_val_accuracies = []\n",
        "nn_test_accuracies = []\n",
        "random_test_accuracies = []\n",
        "\n",
        "for ratio in split_ratios:\n",
        "    # Split data\n",
        "    traindata, trainlabel, valdata, vallabel = split(alltraindata, alltrainlabel, ratio)\n",
        "\n",
        "    # Train Nearest Neighbor Classifier\n",
        "    trainpred = NN(traindata, trainlabel, traindata)\n",
        "    nn_train_accuracy = Accuracy(trainlabel, trainpred)\n",
        "    nn_train_accuracies.append(nn_train_accuracy)\n",
        "\n",
        "    valpred = NN(traindata, trainlabel, valdata)\n",
        "    nn_val_accuracy = Accuracy(vallabel, valpred)\n",
        "    nn_val_accuracies.append(nn_val_accuracy)\n",
        "\n",
        "    testpred = NN(alltraindata, alltrainlabel, testdata)\n",
        "    nn_test_accuracy = Accuracy(testlabel, testpred)\n",
        "    nn_test_accuracies.append(nn_test_accuracy)\n",
        "\n",
        "    # Train Random Classifier\n",
        "    trainpred = RandomClassifier(traindata, trainlabel, traindata)\n",
        "    random_train_accuracy = Accuracy(trainlabel, trainpred)\n",
        "    random_train_accuracies.append(random_train_accuracy)\n",
        "\n",
        "    valpred = RandomClassifier(traindata, trainlabel, valdata)\n",
        "    random_val_accuracy = Accuracy(vallabel, valpred)\n",
        "    random_val_accuracies.append(random_val_accuracy)\n",
        "\n",
        "    testpred = RandomClassifier(alltraindata, alltrainlabel, testdata)\n",
        "    random_test_accuracy = Accuracy(testlabel, testpred)\n",
        "    random_test_accuracies.append(random_test_accuracy)\n",
        "\n",
        "# Plotting the results\n",
        "plt.figure(figsize=(12, 8))\n",
        "\n",
        "# Plot training accuracies\n",
        "plt.subplot(3, 1, 1)\n",
        "plt.plot([100 * ratio for ratio in split_ratios], nn_train_accuracies, label='Nearest Neighbor (Train)', marker='o')\n",
        "plt.plot([100 * ratio for ratio in split_ratios], random_train_accuracies, label='Random Classifier (Train)', marker='o')\n",
        "plt.xlabel('Validation Set Size (%)')\n",
        "plt.ylabel('Training Accuracy')\n",
        "plt.title('Training Accuracy vs. Validation Set Size')\n",
        "plt.legend()\n",
        "plt.grid(True)\n",
        "\n",
        "# Plot validation accuracies\n",
        "plt.subplot(3, 1, 2)\n",
        "plt.plot([100 * ratio for ratio in split_ratios], nn_val_accuracies, label='Nearest Neighbor (Validation)', marker='o')\n",
        "plt.plot([100 * ratio for ratio in split_ratios], random_val_accuracies, label='Random Classifier (Validation)', marker='o')\n",
        "plt.xlabel('Validation Set Size (%)')\n",
        "plt.ylabel('Validation Accuracy')\n",
        "plt.title('Validation Accuracy vs. Validation Set Size')\n",
        "plt.legend()\n",
        "plt.grid(True)\n",
        "\n",
        "# Plot test accuracies\n",
        "plt.subplot(3, 1, 3)\n",
        "plt.plot([100 * ratio for ratio in split_ratios], nn_test_accuracies, label='Nearest Neighbor (Test)', marker='o')\n",
        "plt.plot([100 * ratio for ratio in split_ratios], random_test_accuracies, label='Random Classifier (Test)', marker='o')\n",
        "plt.xlabel('Validation Set Size (%)')\n",
        "plt.ylabel('Test Accuracy')\n",
        "plt.title('Test Accuracy vs. Validation Set Size')\n",
        "plt.legend()\n",
        "plt.grid(True)\n",
        "\n",
        "plt.tight_layout()\n",
        "plt.show()\n"
      ],
      "metadata": {
        "colab": {
          "base_uri": "https://localhost:8080/",
          "height": 807
        },
        "id": "O5QC1aGRd18P",
        "outputId": "4734145d-05ba-48ac-b528-95842d76f1d9"
      },
      "execution_count": 43,
      "outputs": [
        {
          "output_type": "display_data",
          "data": {
            "text/plain": [
              "<Figure size 1200x800 with 3 Axes>"
            ],
            "image/png": "[encoded data removed]"
          },
          "metadata": {}
        }
      ]
    },
    {
      "cell_type": "markdown",
      "source": [
        "**Multiple Splits**"
      ],
      "metadata": {
        "id": "DXrYktRW0pp9"
      }
    },
    {
      "cell_type": "code",
      "source": [
        "# Crossvalidation -> Obtaining accurate estimates for test accuracy\n",
        "\n",
        "#NN\n",
        "def AverageAccuracy(alldata, alllabel, splitpercent, iterations, classifier=NN):\n",
        "  accuracy = 0\n",
        "  for ii in range(iterations):\n",
        "    traindata, trainlabel, valdata, vallabel = split(alldata, alllabel, splitpercent)\n",
        "    valpred = classifier(traindata, trainlabel, valdata)\n",
        "    accuracy += Accuracy(vallabel, valpred)\n",
        "  return accuracy/iterations # average of all accuracies"
      ],
      "metadata": {
        "id": "PEN9_qqc0uEA"
      },
      "execution_count": 33,
      "outputs": []
    },
    {
      "cell_type": "code",
      "source": [
        "print('Average validation accuracy is ', AverageAccuracy(alltraindata, alltrainlabel, 75/100, 10, classifier=NN))\n",
        "testpred = NN(alltraindata, alltrainlabel, testdata)\n",
        "print('test accuracy is ',Accuracy(testlabel, testpred) )"
      ],
      "metadata": {
        "colab": {
          "base_uri": "https://localhost:8080/"
        },
        "id": "w6fPvWsG1G39",
        "outputId": "49bc6338-5ee4-4057-e540-1834ee098ab3"
      },
      "execution_count": 34,
      "outputs": [
        {
          "output_type": "stream",
          "name": "stdout",
          "text": [
            "Average validation accuracy is  0.34073003864848694\n",
            "test accuracy is  0.34917953667953666\n"
          ]
        }
      ]
    },
    {
      "cell_type": "code",
      "source": [
        "#Random Classifier\n",
        "def AverageAccuracy(alldata, alllabel, splitpercent, iterations, classifier=RandomClassifier):\n",
        "  accuracy = 0\n",
        "  for ii in range(iterations):\n",
        "    traindata, trainlabel, valdata, vallabel = split(alldata, alllabel, splitpercent)\n",
        "    valpred = classifier(traindata, trainlabel, valdata)\n",
        "    accuracy += Accuracy(vallabel, valpred)\n",
        "  return accuracy/iterations # average of all accuracies"
      ],
      "metadata": {
        "id": "9nunL68f1JZ5"
      },
      "execution_count": 35,
      "outputs": []
    },
    {
      "cell_type": "code",
      "source": [
        "print('Average validation accuracy is ', AverageAccuracy(alltraindata, alltrainlabel, 75/100, 10, classifier=RandomClassifier))\n",
        "testpred = RandomClassifier(alltraindata, alltrainlabel, testdata)\n",
        "print('test accuracy is ',Accuracy(testlabel, testpred) )"
      ],
      "metadata": {
        "colab": {
          "base_uri": "https://localhost:8080/"
        },
        "id": "mbtTDeXA1U0W",
        "outputId": "7be26091-ff63-4388-9774-757d4344f00d"
      },
      "execution_count": 36,
      "outputs": [
        {
          "output_type": "stream",
          "name": "stdout",
          "text": [
            "Average validation accuracy is  0.16899258341163595\n",
            "test accuracy is  0.16143822393822393\n"
          ]
        }
      ]
    },
    {
      "cell_type": "markdown",
      "source": [
        "In the case of nearest neighbours:\n",
        "\n",
        "            - Average validation accuracy is  0.34073003864848694\n",
        "            - Test accuracy is  0.34917953667953666\n",
        "Implying that test accuracy is slight greater than average validation accuracy.\n",
        "\n",
        "In the case of random classifiers:\n",
        "\n",
        "            - Average validation accuracy is  0.16899258341163595\n",
        "            - Test accuracy is  0.16143822393822393\n",
        "Implying that average validation accuracy is slighly greater than test accuracy.\n",
        "\n",
        "However, the two accuracies in both cases are almost the same provided we take consideration until 2 places after decimal points.\n",
        "\n",
        "But since, we see two different comparisons, I think that there is no direct influence between average validation accuracy and test accuracy.\n",
        "\n",
        "\n",
        "            "
      ],
      "metadata": {
        "id": "KJI6c4rN4B7P"
      }
    },
    {
      "cell_type": "markdown",
      "source": [
        "**Questions**\n",
        "\n",
        "1. Does averaging the validation accuracy across multiple splits give more consistent results?\n",
        "\n",
        "    - Yes, averaging validation accuracy over multiple splits gives a more consistent measure of how well the model performs. It helps smooth out any random fluctuations from individual splits.\n",
        "\n",
        "2. Does it give more accurate estimate of test accuracy?\n",
        "   \n",
        "   - Averaging validation accuracy across multiple splits does not directly estimate test accuracy but helps in evaluating how well the model performs on unseen data. It improves the accuracy of predictions on the test set by ensuring the model is validated.\n",
        "\n",
        "3. What is the effect of the number of iterations on the estimate? Do we get a better estimate with higher iterations?\n",
        "\n",
        "    - Yes, more iterations will give a better estimate of model performance. With higher iterations, the results become more stable and reliable, as they average out and provide a clearer picture of how well the model performs.\n",
        "    \n",
        "    - Lesser iterations can lead to less reliable estimates, as the results may be more affected by anomalies in the data. This can result in less stable and less accurate model performance.\n",
        "\n",
        "4. Consider the results you got for the previous questions. Can we deal with a very small train dataset or validation dataset by increasing the iterations?\n",
        "\n",
        "     - Increasing the number of iterations can help deal with the variability in results when we have a very small training or validation dataset. It averages out the randomness and provides a more stable estimate of model performance.\n",
        "     \n",
        "     - However, having a small dataset; the the model might still struggle with limited data and overfitting, (SInce, there is very limited learning)."
      ],
      "metadata": {
        "id": "xFNcV74l1f7c"
      }
    }
  ]
}